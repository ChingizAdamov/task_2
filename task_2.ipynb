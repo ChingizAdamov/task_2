{
 "cells": [
  {
   "cell_type": "code",
   "execution_count": 2,
   "metadata": {},
   "outputs": [],
   "source": [
    "# Импортируем нужные пакеты для дальнейших преобразований\n",
    "import pandas as pd\n",
    "from datetime import datetime, date"
   ]
  },
  {
   "cell_type": "code",
   "execution_count": 33,
   "metadata": {},
   "outputs": [],
   "source": [
    "# Таблица с историей изменения имени и города\n",
    "susb = {\n",
    "    'subs_id': [2, 2, 2],\n",
    "    'name': ['Вася', 'Петя', 'Петя'],\n",
    "    'city_id': [4, 4, 5],\n",
    "    'beg_dt': ['1900-01-01', '2001-01-01', '2010-01-01'],\n",
    "    'end_dt': ['2001-01-01', '2010-01-01', '9999-01-01']\n",
    "}\n",
    "\n",
    "# Таблица с историей изменения наименовая города\n",
    "city = {\n",
    "    'city_id': [4, 4, 5],\n",
    "    'name': ['Омскград', 'Омск', 'Томск'],\n",
    "    'beg_dt': ['1900-01-01', '1990-01-01', '1900-01-01'],\n",
    "    'end_dt': ['1990-01-01', '9999-01-01', '9999-01-01']\n",
    "}\n"
   ]
  },
  {
   "cell_type": "code",
   "execution_count": 34,
   "metadata": {},
   "outputs": [],
   "source": [
    "# Переводим таблицу susb в Dataframe\n",
    "susb_df = pd.DataFrame(susb)"
   ]
  },
  {
   "cell_type": "code",
   "execution_count": 35,
   "metadata": {},
   "outputs": [],
   "source": [
    "# Переводим таблицу city в Dataframe\n",
    "city_df = pd.DataFrame(city)"
   ]
  },
  {
   "cell_type": "code",
   "execution_count": 36,
   "metadata": {},
   "outputs": [
    {
     "data": {
      "text/html": [
       "<div>\n",
       "<style scoped>\n",
       "    .dataframe tbody tr th:only-of-type {\n",
       "        vertical-align: middle;\n",
       "    }\n",
       "\n",
       "    .dataframe tbody tr th {\n",
       "        vertical-align: top;\n",
       "    }\n",
       "\n",
       "    .dataframe thead th {\n",
       "        text-align: right;\n",
       "    }\n",
       "</style>\n",
       "<table border=\"1\" class=\"dataframe\">\n",
       "  <thead>\n",
       "    <tr style=\"text-align: right;\">\n",
       "      <th></th>\n",
       "      <th>subs_id</th>\n",
       "      <th>name</th>\n",
       "      <th>city_id</th>\n",
       "      <th>beg_dt</th>\n",
       "      <th>end_dt</th>\n",
       "    </tr>\n",
       "  </thead>\n",
       "  <tbody>\n",
       "    <tr>\n",
       "      <th>0</th>\n",
       "      <td>2</td>\n",
       "      <td>Вася</td>\n",
       "      <td>4</td>\n",
       "      <td>1900-01-01</td>\n",
       "      <td>2001-01-01</td>\n",
       "    </tr>\n",
       "    <tr>\n",
       "      <th>1</th>\n",
       "      <td>2</td>\n",
       "      <td>Петя</td>\n",
       "      <td>4</td>\n",
       "      <td>2001-01-01</td>\n",
       "      <td>2010-01-01</td>\n",
       "    </tr>\n",
       "    <tr>\n",
       "      <th>2</th>\n",
       "      <td>2</td>\n",
       "      <td>Петя</td>\n",
       "      <td>5</td>\n",
       "      <td>2010-01-01</td>\n",
       "      <td>9999-01-01</td>\n",
       "    </tr>\n",
       "  </tbody>\n",
       "</table>\n",
       "</div>"
      ],
      "text/plain": [
       "   subs_id  name  city_id      beg_dt      end_dt\n",
       "0        2  Вася        4  1900-01-01  2001-01-01\n",
       "1        2  Петя        4  2001-01-01  2010-01-01\n",
       "2        2  Петя        5  2010-01-01  9999-01-01"
      ]
     },
     "execution_count": 36,
     "metadata": {},
     "output_type": "execute_result"
    }
   ],
   "source": [
    "# Dataframe susb\n",
    "susb_df"
   ]
  },
  {
   "cell_type": "code",
   "execution_count": 37,
   "metadata": {},
   "outputs": [
    {
     "data": {
      "text/html": [
       "<div>\n",
       "<style scoped>\n",
       "    .dataframe tbody tr th:only-of-type {\n",
       "        vertical-align: middle;\n",
       "    }\n",
       "\n",
       "    .dataframe tbody tr th {\n",
       "        vertical-align: top;\n",
       "    }\n",
       "\n",
       "    .dataframe thead th {\n",
       "        text-align: right;\n",
       "    }\n",
       "</style>\n",
       "<table border=\"1\" class=\"dataframe\">\n",
       "  <thead>\n",
       "    <tr style=\"text-align: right;\">\n",
       "      <th></th>\n",
       "      <th>city_id</th>\n",
       "      <th>name</th>\n",
       "      <th>beg_dt</th>\n",
       "      <th>end_dt</th>\n",
       "    </tr>\n",
       "  </thead>\n",
       "  <tbody>\n",
       "    <tr>\n",
       "      <th>0</th>\n",
       "      <td>4</td>\n",
       "      <td>Омскград</td>\n",
       "      <td>1900-01-01</td>\n",
       "      <td>1990-01-01</td>\n",
       "    </tr>\n",
       "    <tr>\n",
       "      <th>1</th>\n",
       "      <td>4</td>\n",
       "      <td>Омск</td>\n",
       "      <td>1990-01-01</td>\n",
       "      <td>9999-01-01</td>\n",
       "    </tr>\n",
       "    <tr>\n",
       "      <th>2</th>\n",
       "      <td>5</td>\n",
       "      <td>Томск</td>\n",
       "      <td>1900-01-01</td>\n",
       "      <td>9999-01-01</td>\n",
       "    </tr>\n",
       "  </tbody>\n",
       "</table>\n",
       "</div>"
      ],
      "text/plain": [
       "   city_id      name      beg_dt      end_dt\n",
       "0        4  Омскград  1900-01-01  1990-01-01\n",
       "1        4      Омск  1990-01-01  9999-01-01\n",
       "2        5     Томск  1900-01-01  9999-01-01"
      ]
     },
     "execution_count": 37,
     "metadata": {},
     "output_type": "execute_result"
    }
   ],
   "source": [
    "# Dateframe city\n",
    "city_df"
   ]
  },
  {
   "cell_type": "code",
   "execution_count": 38,
   "metadata": {},
   "outputs": [],
   "source": [
    "# Переменная с текущей датой\n",
    "today_date = date.today().isoformat()"
   ]
  },
  {
   "cell_type": "code",
   "execution_count": 39,
   "metadata": {},
   "outputs": [],
   "source": [
    "# Замена 9999-01-01 на текущую дату так как у pandas проблемы со считываем такой даты и NaT значения нам не подходят\n",
    "susb_df[\"end_dt\"] = susb_df[\"end_dt\"].replace('9999-01-01', today_date)"
   ]
  },
  {
   "cell_type": "code",
   "execution_count": 40,
   "metadata": {},
   "outputs": [],
   "source": [
    "# Преобразование susb_df в формат даты\n",
    "susb_df['beg_dt'] = pd.to_datetime(susb_df['beg_dt'])\n",
    "susb_df[\"end_dt\"] = pd.to_datetime(susb_df[\"end_dt\"])\n"
   ]
  },
  {
   "cell_type": "code",
   "execution_count": 41,
   "metadata": {},
   "outputs": [],
   "source": [
    "# # Замена 9999-01-01 на текущую дату так как у pandas проблемы со считываем такой даты и NaT значения нам не подходят\n",
    "city_df['end_dt'] = city_df['end_dt'].replace('9999-01-01', today_date)"
   ]
  },
  {
   "cell_type": "code",
   "execution_count": 42,
   "metadata": {},
   "outputs": [],
   "source": [
    "# # Преобразование city_df в формат даты\n",
    "city_df['beg_dt'] = pd.to_datetime(city_df['beg_dt'])\n",
    "city_df[\"end_dt\"] = pd.to_datetime(city_df[\"end_dt\"])"
   ]
  },
  {
   "cell_type": "code",
   "execution_count": 43,
   "metadata": {},
   "outputs": [],
   "source": [
    "# Фильтрация susb_df на текущую дату\n",
    "filtered_susb_df = susb_df[(susb_df[\"beg_dt\"] <= today_date) & (susb_df[\"end_dt\"] >= today_date)]\n",
    "\n",
    "# Фильтрация city_df на текущую дату\n",
    "filtered_city_df = city_df[(city_df[\"beg_dt\"] <= today_date) & (city_df[\"end_dt\"] >= today_date)]"
   ]
  },
  {
   "cell_type": "code",
   "execution_count": 44,
   "metadata": {},
   "outputs": [
    {
     "data": {
      "text/html": [
       "<div>\n",
       "<style scoped>\n",
       "    .dataframe tbody tr th:only-of-type {\n",
       "        vertical-align: middle;\n",
       "    }\n",
       "\n",
       "    .dataframe tbody tr th {\n",
       "        vertical-align: top;\n",
       "    }\n",
       "\n",
       "    .dataframe thead th {\n",
       "        text-align: right;\n",
       "    }\n",
       "</style>\n",
       "<table border=\"1\" class=\"dataframe\">\n",
       "  <thead>\n",
       "    <tr style=\"text-align: right;\">\n",
       "      <th></th>\n",
       "      <th>subs_id</th>\n",
       "      <th>name</th>\n",
       "      <th>city_id</th>\n",
       "      <th>beg_dt</th>\n",
       "      <th>end_dt</th>\n",
       "    </tr>\n",
       "  </thead>\n",
       "  <tbody>\n",
       "    <tr>\n",
       "      <th>2</th>\n",
       "      <td>2</td>\n",
       "      <td>Петя</td>\n",
       "      <td>5</td>\n",
       "      <td>2010-01-01</td>\n",
       "      <td>2023-11-19</td>\n",
       "    </tr>\n",
       "  </tbody>\n",
       "</table>\n",
       "</div>"
      ],
      "text/plain": [
       "   subs_id  name  city_id     beg_dt     end_dt\n",
       "2        2  Петя        5 2010-01-01 2023-11-19"
      ]
     },
     "execution_count": 44,
     "metadata": {},
     "output_type": "execute_result"
    }
   ],
   "source": [
    "# Вывод актуальных записый таблицы susb_df действующих на текущий момент\n",
    "filtered_susb_df"
   ]
  },
  {
   "cell_type": "code",
   "execution_count": 45,
   "metadata": {},
   "outputs": [
    {
     "data": {
      "text/html": [
       "<div>\n",
       "<style scoped>\n",
       "    .dataframe tbody tr th:only-of-type {\n",
       "        vertical-align: middle;\n",
       "    }\n",
       "\n",
       "    .dataframe tbody tr th {\n",
       "        vertical-align: top;\n",
       "    }\n",
       "\n",
       "    .dataframe thead th {\n",
       "        text-align: right;\n",
       "    }\n",
       "</style>\n",
       "<table border=\"1\" class=\"dataframe\">\n",
       "  <thead>\n",
       "    <tr style=\"text-align: right;\">\n",
       "      <th></th>\n",
       "      <th>city_id</th>\n",
       "      <th>name</th>\n",
       "      <th>beg_dt</th>\n",
       "      <th>end_dt</th>\n",
       "    </tr>\n",
       "  </thead>\n",
       "  <tbody>\n",
       "    <tr>\n",
       "      <th>1</th>\n",
       "      <td>4</td>\n",
       "      <td>Омск</td>\n",
       "      <td>1990-01-01</td>\n",
       "      <td>2023-11-19</td>\n",
       "    </tr>\n",
       "    <tr>\n",
       "      <th>2</th>\n",
       "      <td>5</td>\n",
       "      <td>Томск</td>\n",
       "      <td>1900-01-01</td>\n",
       "      <td>2023-11-19</td>\n",
       "    </tr>\n",
       "  </tbody>\n",
       "</table>\n",
       "</div>"
      ],
      "text/plain": [
       "   city_id   name     beg_dt     end_dt\n",
       "1        4   Омск 1990-01-01 2023-11-19\n",
       "2        5  Томск 1900-01-01 2023-11-19"
      ]
     },
     "execution_count": 45,
     "metadata": {},
     "output_type": "execute_result"
    }
   ],
   "source": [
    "# # Вывод актуальных записей таблицы city_df действующих на текущий момент\n",
    "filtered_city_df"
   ]
  },
  {
   "cell_type": "code",
   "execution_count": 46,
   "metadata": {},
   "outputs": [],
   "source": [
    "# Объеденяем таблцы susb_df и city_df\n",
    "merged_subs_city = pd.merge(susb_df, city_df, on='city_id')"
   ]
  },
  {
   "cell_type": "code",
   "execution_count": 47,
   "metadata": {},
   "outputs": [],
   "source": [
    "# Переименовываем колонки для лучшей читабельности\n",
    "merged_subs_city = merged_subs_city.rename(columns={\n",
    "   'name_x': 'name_subs',\n",
    "   'beg_dt_x': 'beg_dt_subs',\n",
    "   'end_dt_x': 'end_dt_x',\n",
    "   'name_y': 'name_city',\n",
    "   'beg_dt_y': 'beg_dt_city',\n",
    "   'end_dt_y': 'end_dt_city'\n",
    "})"
   ]
  },
  {
   "cell_type": "code",
   "execution_count": 48,
   "metadata": {},
   "outputs": [
    {
     "data": {
      "text/html": [
       "<div>\n",
       "<style scoped>\n",
       "    .dataframe tbody tr th:only-of-type {\n",
       "        vertical-align: middle;\n",
       "    }\n",
       "\n",
       "    .dataframe tbody tr th {\n",
       "        vertical-align: top;\n",
       "    }\n",
       "\n",
       "    .dataframe thead th {\n",
       "        text-align: right;\n",
       "    }\n",
       "</style>\n",
       "<table border=\"1\" class=\"dataframe\">\n",
       "  <thead>\n",
       "    <tr style=\"text-align: right;\">\n",
       "      <th></th>\n",
       "      <th>subs_id</th>\n",
       "      <th>name_subs</th>\n",
       "      <th>city_id</th>\n",
       "      <th>beg_dt_subs</th>\n",
       "      <th>end_dt_x</th>\n",
       "      <th>name_city</th>\n",
       "      <th>beg_dt_city</th>\n",
       "      <th>end_dt_city</th>\n",
       "    </tr>\n",
       "  </thead>\n",
       "  <tbody>\n",
       "    <tr>\n",
       "      <th>0</th>\n",
       "      <td>2</td>\n",
       "      <td>Вася</td>\n",
       "      <td>4</td>\n",
       "      <td>1900-01-01</td>\n",
       "      <td>2001-01-01</td>\n",
       "      <td>Омскград</td>\n",
       "      <td>1900-01-01</td>\n",
       "      <td>1990-01-01</td>\n",
       "    </tr>\n",
       "    <tr>\n",
       "      <th>1</th>\n",
       "      <td>2</td>\n",
       "      <td>Вася</td>\n",
       "      <td>4</td>\n",
       "      <td>1900-01-01</td>\n",
       "      <td>2001-01-01</td>\n",
       "      <td>Омск</td>\n",
       "      <td>1990-01-01</td>\n",
       "      <td>2023-11-19</td>\n",
       "    </tr>\n",
       "    <tr>\n",
       "      <th>2</th>\n",
       "      <td>2</td>\n",
       "      <td>Петя</td>\n",
       "      <td>4</td>\n",
       "      <td>2001-01-01</td>\n",
       "      <td>2010-01-01</td>\n",
       "      <td>Омскград</td>\n",
       "      <td>1900-01-01</td>\n",
       "      <td>1990-01-01</td>\n",
       "    </tr>\n",
       "    <tr>\n",
       "      <th>3</th>\n",
       "      <td>2</td>\n",
       "      <td>Петя</td>\n",
       "      <td>4</td>\n",
       "      <td>2001-01-01</td>\n",
       "      <td>2010-01-01</td>\n",
       "      <td>Омск</td>\n",
       "      <td>1990-01-01</td>\n",
       "      <td>2023-11-19</td>\n",
       "    </tr>\n",
       "    <tr>\n",
       "      <th>4</th>\n",
       "      <td>2</td>\n",
       "      <td>Петя</td>\n",
       "      <td>5</td>\n",
       "      <td>2010-01-01</td>\n",
       "      <td>2023-11-19</td>\n",
       "      <td>Томск</td>\n",
       "      <td>1900-01-01</td>\n",
       "      <td>2023-11-19</td>\n",
       "    </tr>\n",
       "  </tbody>\n",
       "</table>\n",
       "</div>"
      ],
      "text/plain": [
       "   subs_id name_subs  city_id beg_dt_subs   end_dt_x name_city beg_dt_city  \\\n",
       "0        2      Вася        4  1900-01-01 2001-01-01  Омскград  1900-01-01   \n",
       "1        2      Вася        4  1900-01-01 2001-01-01      Омск  1990-01-01   \n",
       "2        2      Петя        4  2001-01-01 2010-01-01  Омскград  1900-01-01   \n",
       "3        2      Петя        4  2001-01-01 2010-01-01      Омск  1990-01-01   \n",
       "4        2      Петя        5  2010-01-01 2023-11-19     Томск  1900-01-01   \n",
       "\n",
       "  end_dt_city  \n",
       "0  1990-01-01  \n",
       "1  2023-11-19  \n",
       "2  1990-01-01  \n",
       "3  2023-11-19  \n",
       "4  2023-11-19  "
      ]
     },
     "execution_count": 48,
     "metadata": {},
     "output_type": "execute_result"
    }
   ],
   "source": [
    "# Вывод объедененой таблицы\n",
    "merged_subs_city"
   ]
  },
  {
   "cell_type": "code",
   "execution_count": 49,
   "metadata": {},
   "outputs": [],
   "source": [
    "# Объеденяем таблцы filtered_susb_df и filtered_city_df\n",
    "merged_filter_dfs = pd.merge(filtered_susb_df, filtered_city_df, on='city_id')"
   ]
  },
  {
   "cell_type": "code",
   "execution_count": 50,
   "metadata": {},
   "outputs": [],
   "source": [
    "# Переименовываем колонки для лучшей читабельности\n",
    "merged_filter_dfs = merged_filter_dfs.rename(columns={\n",
    "   'name_x': 'name_subs',\n",
    "   'beg_dt_x': 'beg_dt_subs',\n",
    "   'end_dt_x': 'end_dt_x',\n",
    "   'name_y': 'name_city',\n",
    "   'beg_dt_y': 'beg_dt_city',\n",
    "   'end_dt_y': 'end_dt_city'\n",
    "})"
   ]
  },
  {
   "cell_type": "code",
   "execution_count": 51,
   "metadata": {},
   "outputs": [
    {
     "data": {
      "text/html": [
       "<div>\n",
       "<style scoped>\n",
       "    .dataframe tbody tr th:only-of-type {\n",
       "        vertical-align: middle;\n",
       "    }\n",
       "\n",
       "    .dataframe tbody tr th {\n",
       "        vertical-align: top;\n",
       "    }\n",
       "\n",
       "    .dataframe thead th {\n",
       "        text-align: right;\n",
       "    }\n",
       "</style>\n",
       "<table border=\"1\" class=\"dataframe\">\n",
       "  <thead>\n",
       "    <tr style=\"text-align: right;\">\n",
       "      <th></th>\n",
       "      <th>subs_id</th>\n",
       "      <th>name_subs</th>\n",
       "      <th>city_id</th>\n",
       "      <th>beg_dt_subs</th>\n",
       "      <th>end_dt_x</th>\n",
       "      <th>name_city</th>\n",
       "      <th>beg_dt_city</th>\n",
       "      <th>end_dt_city</th>\n",
       "    </tr>\n",
       "  </thead>\n",
       "  <tbody>\n",
       "    <tr>\n",
       "      <th>0</th>\n",
       "      <td>2</td>\n",
       "      <td>Петя</td>\n",
       "      <td>5</td>\n",
       "      <td>2010-01-01</td>\n",
       "      <td>2023-11-19</td>\n",
       "      <td>Томск</td>\n",
       "      <td>1900-01-01</td>\n",
       "      <td>2023-11-19</td>\n",
       "    </tr>\n",
       "  </tbody>\n",
       "</table>\n",
       "</div>"
      ],
      "text/plain": [
       "   subs_id name_subs  city_id beg_dt_subs   end_dt_x name_city beg_dt_city  \\\n",
       "0        2      Петя        5  2010-01-01 2023-11-19     Томск  1900-01-01   \n",
       "\n",
       "  end_dt_city  \n",
       "0  2023-11-19  "
      ]
     },
     "execution_count": 51,
     "metadata": {},
     "output_type": "execute_result"
    }
   ],
   "source": [
    "# Вывод отфильтрованной таблицы\n",
    "merged_filter_dfs"
   ]
  },
  {
   "cell_type": "code",
   "execution_count": null,
   "metadata": {},
   "outputs": [],
   "source": []
  },
  {
   "cell_type": "code",
   "execution_count": null,
   "metadata": {},
   "outputs": [],
   "source": []
  },
  {
   "cell_type": "code",
   "execution_count": null,
   "metadata": {},
   "outputs": [],
   "source": []
  },
  {
   "cell_type": "code",
   "execution_count": null,
   "metadata": {},
   "outputs": [],
   "source": []
  },
  {
   "cell_type": "code",
   "execution_count": null,
   "metadata": {},
   "outputs": [],
   "source": []
  }
 ],
 "metadata": {
  "kernelspec": {
   "display_name": "Python 3",
   "language": "python",
   "name": "python3"
  },
  "language_info": {
   "codemirror_mode": {
    "name": "ipython",
    "version": 3
   },
   "file_extension": ".py",
   "mimetype": "text/x-python",
   "name": "python",
   "nbconvert_exporter": "python",
   "pygments_lexer": "ipython3",
   "version": "3.9.9"
  }
 },
 "nbformat": 4,
 "nbformat_minor": 2
}
